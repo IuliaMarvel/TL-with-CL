{
  "nbformat": 4,
  "nbformat_minor": 0,
  "metadata": {
    "colab": {
      "provenance": [],
      "gpuType": "T4"
    },
    "kernelspec": {
      "name": "python3",
      "display_name": "Python 3"
    },
    "language_info": {
      "name": "python"
    },
    "accelerator": "GPU"
  },
  "cells": [
    {
      "cell_type": "markdown",
      "source": [
        "Взять CIFAR100 и обучить resnet18 с нуля на нем\n",
        "\n",
        "Определить легкие и тяжелые объекты по лоссам итоговой модели\n",
        "\n",
        "Взять другую модель и обучить её для CIFAR100  двумя способами:\n",
        "\n",
        "1)объекты в рандомном порядке n эпох\n",
        "\n",
        "2)чем больше номер эпохи чем больше вероятность выбрать сложный объект \n",
        "\n",
        "(да,распределение на индексах:вероятность выбрать объект сначала тем меньше,тем он сложнее,по ходу обучения распределение выходит на равномерное)"
      ],
      "metadata": {
        "id": "U4N4ZWC9M6Zr"
      }
    },
    {
      "cell_type": "code",
      "execution_count": null,
      "metadata": {
        "id": "he72z2pNMx6M"
      },
      "outputs": [],
      "source": [
        "import random\n",
        "import numpy as np\n",
        "import torch\n",
        "import torch.nn as nn\n",
        "import torch.nn.functional as F\n",
        "import os\n",
        "import pickle\n",
        "from torchvision import datasets, transforms\n",
        "from tqdm import tqdm\n",
        "from copy import deepcopy\n",
        "from collections import OrderedDict\n",
        "import matplotlib.pyplot as plt\n",
        "\n",
        "def set_seed(seed):\n",
        "    random.seed(seed)\n",
        "    np.random.seed(seed)\n",
        "\n",
        "    torch.manual_seed(seed)\n",
        "    torch.cuda.manual_seed_all(seed)\n",
        "\n",
        "from tqdm import tqdm"
      ]
    },
    {
      "cell_type": "code",
      "source": [
        "set_seed(42)"
      ],
      "metadata": {
        "id": "WvIYiUJ5N4Yl"
      },
      "execution_count": null,
      "outputs": []
    },
    {
      "cell_type": "code",
      "source": [
        "def prepare_transforms(augments=[True, False]):\n",
        "    data_mean = (0.5071, 0.4865, 0.4409)\n",
        "    data_std = (0.2673, 0.2564, 0.2762)\n",
        "    # types of transform: with augmentation and without\n",
        "    transform_augmented = transforms.Compose([\n",
        "        #transforms.RandomCrop(32, padding=4),\n",
        "        transforms.RandomHorizontalFlip(),\n",
        "        transforms.ToTensor(),\n",
        "        transforms.Normalize(data_mean, data_std)])\n",
        "    transform_clean = transforms.Compose([\n",
        "        transforms.ToTensor(),\n",
        "        transforms.Normalize(data_mean, data_std)])\n",
        "    # choose transform according func params\n",
        "    train_transform = transform_augmented if augments[0] else transform_clean\n",
        "    test_transform = transform_augmented if augments[1] else transform_clean\n",
        "\n",
        "    return train_transform, test_transform"
      ],
      "metadata": {
        "id": "F_3OQNVqRM3e"
      },
      "execution_count": null,
      "outputs": []
    },
    {
      "cell_type": "code",
      "source": [
        "def get_loaders(data_dir='cifar-100', batch_size=32, augments=[True, False], shuffles=[True, False]):\n",
        "    train_transform, test_transform = prepare_transforms(augments)\n",
        "    train_dataset = datasets.CIFAR100(\n",
        "            data_dir, train=True, transform=train_transform, download=True)\n",
        "    test_dataset = datasets.CIFAR100(\n",
        "            data_dir, train=False, transform=test_transform, download=True)\n",
        "\n",
        "    train_loader = torch.utils.data.DataLoader(\n",
        "        dataset=train_dataset,\n",
        "        batch_size=batch_size, shuffle=shuffles[0],\n",
        "        pin_memory=True, num_workers=2)\n",
        "    test_loader = torch.utils.data.DataLoader(\n",
        "        dataset=test_dataset,\n",
        "        batch_size=batch_size, shuffle=shuffles[1],\n",
        "        pin_memory=True, num_workers=2)\n",
        "\n",
        "    return train_loader, test_loader"
      ],
      "metadata": {
        "id": "7aRGX3ssN6dT"
      },
      "execution_count": null,
      "outputs": []
    },
    {
      "cell_type": "code",
      "source": [
        "device = 'cuda' if torch.cuda.is_available() else 'cpu'\n",
        "device"
      ],
      "metadata": {
        "colab": {
          "base_uri": "https://localhost:8080/",
          "height": 35
        },
        "id": "03GK7Vs-QuE0",
        "outputId": "5e65e294-86af-4852-c5f7-8941644ed351"
      },
      "execution_count": null,
      "outputs": [
        {
          "output_type": "execute_result",
          "data": {
            "text/plain": [
              "'cuda'"
            ],
            "application/vnd.google.colaboratory.intrinsic+json": {
              "type": "string"
            }
          },
          "metadata": {},
          "execution_count": 5
        }
      ]
    },
    {
      "cell_type": "code",
      "source": [
        "losses_train_history = {'random':[],'hard first':[],'easy first':[]}\n",
        "losses_val_history = {'random':[],'hard first':[],'easy first':[]}"
      ],
      "metadata": {
        "id": "_yadGxTR5aUK"
      },
      "execution_count": null,
      "outputs": []
    },
    {
      "cell_type": "markdown",
      "source": [
        "1)Random"
      ],
      "metadata": {
        "id": "wTzd-6xp55KN"
      }
    },
    {
      "cell_type": "code",
      "source": [
        "from torchvision.models import resnet18\n",
        "\n",
        "model = resnet18(weights='DEFAULT')\n",
        "model.fc = nn.Linear(512,100)"
      ],
      "metadata": {
        "id": "IYZlLhGDR3Yo",
        "colab": {
          "base_uri": "https://localhost:8080/"
        },
        "outputId": "fd67eb6c-c786-463f-a263-032b54fb0474"
      },
      "execution_count": null,
      "outputs": [
        {
          "output_type": "stream",
          "name": "stderr",
          "text": [
            "Downloading: \"https://download.pytorch.org/models/resnet18-f37072fd.pth\" to /root/.cache/torch/hub/checkpoints/resnet18-f37072fd.pth\n",
            "100%|██████████| 44.7M/44.7M [00:00<00:00, 168MB/s] \n"
          ]
        }
      ]
    },
    {
      "cell_type": "code",
      "source": [
        "train_loader,test_loader = get_loaders()"
      ],
      "metadata": {
        "colab": {
          "base_uri": "https://localhost:8080/"
        },
        "id": "UU2Ug8hBTgsA",
        "outputId": "1349c9e8-df8d-4be9-c866-4793fba9078a"
      },
      "execution_count": null,
      "outputs": [
        {
          "output_type": "stream",
          "name": "stdout",
          "text": [
            "Downloading https://www.cs.toronto.edu/~kriz/cifar-100-python.tar.gz to cifar-100/cifar-100-python.tar.gz\n"
          ]
        },
        {
          "output_type": "stream",
          "name": "stderr",
          "text": [
            "100%|██████████| 169001437/169001437 [00:13<00:00, 12671596.00it/s]\n"
          ]
        },
        {
          "output_type": "stream",
          "name": "stdout",
          "text": [
            "Extracting cifar-100/cifar-100-python.tar.gz to cifar-100\n",
            "Files already downloaded and verified\n"
          ]
        }
      ]
    },
    {
      "cell_type": "code",
      "source": [
        "optimizer = torch.optim.Adam(model.parameters(),lr=3e-4)\n",
        "loss_function = nn.CrossEntropyLoss()\n",
        "model.to(device)\n",
        "print(f'Model is on device: {device}')"
      ],
      "metadata": {
        "colab": {
          "base_uri": "https://localhost:8080/"
        },
        "id": "OsQdljiNUR8K",
        "outputId": "f0549a03-c0e3-4612-97e4-4f1d10965a3c"
      },
      "execution_count": null,
      "outputs": [
        {
          "output_type": "stream",
          "name": "stdout",
          "text": [
            "Model is on device: cuda\n"
          ]
        }
      ]
    },
    {
      "cell_type": "code",
      "source": [
        "for x,y in train_loader:\n",
        "  print(x.shape,y.shape)\n",
        "  break\n",
        "\n",
        "x = x.to(device)\n",
        "output = model(x)\n",
        "print(output.shape)\n",
        "\n",
        "y = y.to(device)\n",
        "loss = loss_function(output,y)\n",
        "loss"
      ],
      "metadata": {
        "colab": {
          "base_uri": "https://localhost:8080/"
        },
        "id": "4HyKRmYWVpTA",
        "outputId": "74b9111c-7d11-4714-89ab-8c0f3d2a31fd"
      },
      "execution_count": null,
      "outputs": [
        {
          "output_type": "stream",
          "name": "stdout",
          "text": [
            "torch.Size([32, 3, 32, 32]) torch.Size([32])\n",
            "torch.Size([32, 100])\n"
          ]
        },
        {
          "output_type": "execute_result",
          "data": {
            "text/plain": [
              "tensor(5.1852, device='cuda:0', grad_fn=<NllLossBackward0>)"
            ]
          },
          "metadata": {},
          "execution_count": 10
        }
      ]
    },
    {
      "cell_type": "code",
      "source": [
        "n_epochs = 10\n",
        "\n",
        "for i in range(n_epochs):\n",
        "  model.train()\n",
        "  train_loss = 0\n",
        "  for x,y in tqdm(train_loader):\n",
        "    optimizer.zero_grad()\n",
        "    x, y = x.to(device), y.to(device)\n",
        "    preds = model(x)\n",
        "    loss = loss_function(preds,y)\n",
        "    train_loss += loss\n",
        "    loss.backward()\n",
        "    optimizer.step()\n",
        "\n",
        "  model.eval()\n",
        "  val_loss = 0\n",
        "  with torch.no_grad():\n",
        "    for x,y in  tqdm(test_loader):\n",
        "      x, y = x.to(device), y.to(device)\n",
        "      preds = model(x)\n",
        "      loss = loss_function(preds,y)\n",
        "      val_loss += loss    \n",
        "  \n",
        "  train_len = len(train_loader)\n",
        "  val_len = len(test_loader)\n",
        "  print(f'epoch {i}: train loss:{train_loss / train_len } val loss:{val_loss / val_len }')\n",
        "  losses_train_history['random'].append(train_loss / train_len)\n",
        "  losses_val_history['random'].append(val_loss / val_len)"
      ],
      "metadata": {
        "colab": {
          "base_uri": "https://localhost:8080/"
        },
        "id": "61FsZFjXT-k-",
        "outputId": "6983435d-443d-4d76-d475-e80f8225227a"
      },
      "execution_count": null,
      "outputs": [
        {
          "output_type": "stream",
          "name": "stderr",
          "text": [
            "100%|██████████| 1563/1563 [00:36<00:00, 43.04it/s]\n",
            "100%|██████████| 313/313 [00:03<00:00, 79.70it/s]\n"
          ]
        },
        {
          "output_type": "stream",
          "name": "stdout",
          "text": [
            "epoch 0: train loss:2.7289886474609375 val loss:2.0758867263793945\n"
          ]
        },
        {
          "output_type": "stream",
          "name": "stderr",
          "text": [
            "100%|██████████| 1563/1563 [00:35<00:00, 44.40it/s]\n",
            "100%|██████████| 313/313 [00:04<00:00, 74.21it/s]\n"
          ]
        },
        {
          "output_type": "stream",
          "name": "stdout",
          "text": [
            "epoch 1: train loss:2.047841787338257 val loss:1.8787962198257446\n"
          ]
        },
        {
          "output_type": "stream",
          "name": "stderr",
          "text": [
            "100%|██████████| 1563/1563 [00:35<00:00, 44.58it/s]\n",
            "100%|██████████| 313/313 [00:04<00:00, 67.11it/s]\n"
          ]
        },
        {
          "output_type": "stream",
          "name": "stdout",
          "text": [
            "epoch 2: train loss:1.7684392929077148 val loss:1.7797573804855347\n"
          ]
        },
        {
          "output_type": "stream",
          "name": "stderr",
          "text": [
            "100%|██████████| 1563/1563 [00:34<00:00, 45.88it/s]\n",
            "100%|██████████| 313/313 [00:04<00:00, 68.27it/s]\n"
          ]
        },
        {
          "output_type": "stream",
          "name": "stdout",
          "text": [
            "epoch 3: train loss:1.5884369611740112 val loss:1.750663161277771\n"
          ]
        },
        {
          "output_type": "stream",
          "name": "stderr",
          "text": [
            "100%|██████████| 1563/1563 [00:33<00:00, 46.66it/s]\n",
            "100%|██████████| 313/313 [00:04<00:00, 69.63it/s]\n"
          ]
        },
        {
          "output_type": "stream",
          "name": "stdout",
          "text": [
            "epoch 4: train loss:1.4379208087921143 val loss:1.671268105506897\n"
          ]
        },
        {
          "output_type": "stream",
          "name": "stderr",
          "text": [
            "100%|██████████| 1563/1563 [00:33<00:00, 46.60it/s]\n",
            "100%|██████████| 313/313 [00:04<00:00, 71.61it/s]\n"
          ]
        },
        {
          "output_type": "stream",
          "name": "stdout",
          "text": [
            "epoch 5: train loss:1.3061949014663696 val loss:1.6756365299224854\n"
          ]
        },
        {
          "output_type": "stream",
          "name": "stderr",
          "text": [
            "100%|██████████| 1563/1563 [00:33<00:00, 46.32it/s]\n",
            "100%|██████████| 313/313 [00:04<00:00, 70.94it/s]\n"
          ]
        },
        {
          "output_type": "stream",
          "name": "stdout",
          "text": [
            "epoch 6: train loss:1.1917494535446167 val loss:1.7040494680404663\n"
          ]
        },
        {
          "output_type": "stream",
          "name": "stderr",
          "text": [
            "100%|██████████| 1563/1563 [00:34<00:00, 45.72it/s]\n",
            "100%|██████████| 313/313 [00:04<00:00, 65.03it/s]\n"
          ]
        },
        {
          "output_type": "stream",
          "name": "stdout",
          "text": [
            "epoch 7: train loss:1.097192406654358 val loss:1.7097994089126587\n"
          ]
        },
        {
          "output_type": "stream",
          "name": "stderr",
          "text": [
            "100%|██████████| 1563/1563 [00:34<00:00, 45.86it/s]\n",
            "100%|██████████| 313/313 [00:04<00:00, 63.34it/s]\n"
          ]
        },
        {
          "output_type": "stream",
          "name": "stdout",
          "text": [
            "epoch 8: train loss:1.0019954442977905 val loss:1.6802847385406494\n"
          ]
        },
        {
          "output_type": "stream",
          "name": "stderr",
          "text": [
            "100%|██████████| 1563/1563 [00:34<00:00, 45.94it/s]\n",
            "100%|██████████| 313/313 [00:05<00:00, 61.88it/s]"
          ]
        },
        {
          "output_type": "stream",
          "name": "stdout",
          "text": [
            "epoch 9: train loss:0.9261168241500854 val loss:1.7140905857086182\n"
          ]
        },
        {
          "output_type": "stream",
          "name": "stderr",
          "text": [
            "\n"
          ]
        }
      ]
    },
    {
      "cell_type": "code",
      "source": [
        "val_acc = 0\n",
        "model.eval()\n",
        "for x,y in train_loader:\n",
        "  x,y = x.to(device), y.to(device)\n",
        "  logits = model(x)\n",
        "  preds = logits.max(1)[1]\n",
        "  val_acc += (y == preds).sum()\n",
        "\n",
        "val_acc / len(train_loader) / 32"
      ],
      "metadata": {
        "id": "41l_VAnbdAYI",
        "colab": {
          "base_uri": "https://localhost:8080/"
        },
        "outputId": "ee57286d-6598-4b7a-ef08-a95e4690a7c2"
      },
      "execution_count": null,
      "outputs": [
        {
          "output_type": "execute_result",
          "data": {
            "text/plain": [
              "tensor(0.8218, device='cuda:0')"
            ]
          },
          "metadata": {},
          "execution_count": 12
        }
      ]
    },
    {
      "cell_type": "code",
      "source": [
        "loss_function = nn.CrossEntropyLoss(reduction='none')\n",
        "losses = []\n",
        "with torch.no_grad():\n",
        "  for x,y in train_loader:\n",
        "    x,y = x.to(device), y.to(device)\n",
        "    logits = model(x)\n",
        "    batch_loss = loss_function(logits,y)\n",
        "    losses.append(batch_loss)\n",
        "\n",
        "loss_per_object = torch.hstack(losses)\n",
        "loss_per_object.shape"
      ],
      "metadata": {
        "id": "Q63iEm-chOS8",
        "colab": {
          "base_uri": "https://localhost:8080/"
        },
        "outputId": "d2cd1e3e-aef1-4628-aeac-fd3843bd42c6"
      },
      "execution_count": null,
      "outputs": [
        {
          "output_type": "execute_result",
          "data": {
            "text/plain": [
              "torch.Size([50000])"
            ]
          },
          "metadata": {},
          "execution_count": 13
        }
      ]
    },
    {
      "cell_type": "code",
      "source": [
        "def get_loaders_weighted(weights,data_dir='cifar-100', batch_size=32, augments=[True, False], shuffles=[True, False]):\n",
        "    train_transform, test_transform = prepare_transforms(augments)\n",
        "    train_dataset = datasets.CIFAR100(\n",
        "            data_dir, train=True, transform=train_transform, download=True)\n",
        "    test_dataset = datasets.CIFAR100(\n",
        "            data_dir, train=False, transform=test_transform, download=True)\n",
        "\n",
        "    sampler = torch.utils.data.sampler.WeightedRandomSampler(weights, len(weights))                     \n",
        " \n",
        "    train_loader = torch.utils.data.DataLoader(\n",
        "        dataset=train_dataset,\n",
        "        batch_size=batch_size, sampler = sampler,\n",
        "        pin_memory=True, num_workers=2)\n",
        "    test_loader = torch.utils.data.DataLoader(\n",
        "        dataset=test_dataset,\n",
        "        batch_size=batch_size, shuffle=shuffles[1],\n",
        "        pin_memory=True, num_workers=2)\n",
        "    \n",
        "    return train_loader, test_loader"
      ],
      "metadata": {
        "id": "ZOqoilk1oAXz"
      },
      "execution_count": null,
      "outputs": []
    },
    {
      "cell_type": "markdown",
      "source": [
        "2)hard first"
      ],
      "metadata": {
        "id": "_akJAueX6pW7"
      }
    },
    {
      "cell_type": "code",
      "source": [
        "model_transfer = resnet18(weights='DEFAULT')\n",
        "model_transfer.fc = nn.Linear(512,100)\n",
        "optimizer = torch.optim.Adam(model_transfer.parameters(),lr=3e-4)\n",
        "loss_function = nn.CrossEntropyLoss()\n",
        "model_transfer.to(device)\n",
        "print(f'Model is on device: {device}')"
      ],
      "metadata": {
        "id": "OX8zfZppows8",
        "colab": {
          "base_uri": "https://localhost:8080/"
        },
        "outputId": "4752b86a-a50e-4bf0-db6c-a3d7ec5eb69d"
      },
      "execution_count": null,
      "outputs": [
        {
          "output_type": "stream",
          "name": "stdout",
          "text": [
            "Model is on device: cuda\n"
          ]
        }
      ]
    },
    {
      "cell_type": "code",
      "source": [
        "n_epochs = 10\n",
        "\n",
        "for i in range(n_epochs):\n",
        "  weights = 1. / (loss_per_object + 1.0)**(-1.1)\n",
        "  train_loader,test_loader = get_loaders_weighted(weights)\n",
        "  model_transfer.train()\n",
        "  train_loss = 0\n",
        "  for x,y in tqdm(train_loader):\n",
        "    optimizer.zero_grad()\n",
        "    x, y = x.to(device), y.to(device)\n",
        "    preds = model_transfer(x)\n",
        "    loss = loss_function(preds,y)\n",
        "    train_loss += loss\n",
        "    loss.backward()\n",
        "    optimizer.step()\n",
        "\n",
        "  model_transfer.eval()\n",
        "  val_loss = 0\n",
        "  with torch.no_grad():\n",
        "    for x,y in  tqdm(test_loader):\n",
        "      x, y = x.to(device), y.to(device)\n",
        "      preds = model_transfer(x)\n",
        "      loss = loss_function(preds,y)\n",
        "      val_loss += loss    \n",
        "  \n",
        "  train_len = len(train_loader)\n",
        "  val_len = len(test_loader)\n",
        "  print(f'epoch {i}: train loss:{train_loss / train_len } val loss:{val_loss / val_len }')\n",
        "\n",
        "  losses_train_history['hard first'].append(train_loss / train_len)\n",
        "  losses_val_history['hard first'].append(val_loss / val_len)"
      ],
      "metadata": {
        "id": "zh1Sj-vEo8y5",
        "colab": {
          "base_uri": "https://localhost:8080/"
        },
        "outputId": "e8859ef7-ada2-4bfa-ce20-a5d90be2e8e4"
      },
      "execution_count": null,
      "outputs": [
        {
          "output_type": "stream",
          "name": "stdout",
          "text": [
            "Files already downloaded and verified\n",
            "Files already downloaded and verified\n"
          ]
        },
        {
          "output_type": "stream",
          "name": "stderr",
          "text": [
            "100%|██████████| 1563/1563 [00:35<00:00, 43.76it/s]\n",
            "100%|██████████| 313/313 [00:04<00:00, 68.67it/s]\n"
          ]
        },
        {
          "output_type": "stream",
          "name": "stdout",
          "text": [
            "epoch 0: train loss:2.5360043048858643 val loss:2.174665689468384\n",
            "Files already downloaded and verified\n",
            "Files already downloaded and verified\n"
          ]
        },
        {
          "output_type": "stream",
          "name": "stderr",
          "text": [
            "100%|██████████| 1563/1563 [00:35<00:00, 44.62it/s]\n",
            "100%|██████████| 313/313 [00:05<00:00, 61.91it/s]\n"
          ]
        },
        {
          "output_type": "stream",
          "name": "stdout",
          "text": [
            "epoch 1: train loss:1.813902497291565 val loss:1.9134985208511353\n",
            "Files already downloaded and verified\n",
            "Files already downloaded and verified\n"
          ]
        },
        {
          "output_type": "stream",
          "name": "stderr",
          "text": [
            "100%|██████████| 1563/1563 [00:36<00:00, 43.40it/s]\n",
            "100%|██████████| 313/313 [00:04<00:00, 77.83it/s]\n"
          ]
        },
        {
          "output_type": "stream",
          "name": "stdout",
          "text": [
            "epoch 2: train loss:1.5318273305892944 val loss:1.8694124221801758\n",
            "Files already downloaded and verified\n",
            "Files already downloaded and verified\n"
          ]
        },
        {
          "output_type": "stream",
          "name": "stderr",
          "text": [
            "100%|██████████| 1563/1563 [00:34<00:00, 44.69it/s]\n",
            "100%|██████████| 313/313 [00:03<00:00, 80.79it/s]\n"
          ]
        },
        {
          "output_type": "stream",
          "name": "stdout",
          "text": [
            "epoch 3: train loss:1.3730857372283936 val loss:1.8739416599273682\n",
            "Files already downloaded and verified\n",
            "Files already downloaded and verified\n"
          ]
        },
        {
          "output_type": "stream",
          "name": "stderr",
          "text": [
            "100%|██████████| 1563/1563 [00:34<00:00, 44.75it/s]\n",
            "100%|██████████| 313/313 [00:04<00:00, 67.69it/s]\n"
          ]
        },
        {
          "output_type": "stream",
          "name": "stdout",
          "text": [
            "epoch 4: train loss:1.2139579057693481 val loss:1.8344720602035522\n",
            "Files already downloaded and verified\n",
            "Files already downloaded and verified\n"
          ]
        },
        {
          "output_type": "stream",
          "name": "stderr",
          "text": [
            "100%|██████████| 1563/1563 [00:34<00:00, 45.90it/s]\n",
            "100%|██████████| 313/313 [00:05<00:00, 62.53it/s]\n"
          ]
        },
        {
          "output_type": "stream",
          "name": "stdout",
          "text": [
            "epoch 5: train loss:1.0988256931304932 val loss:1.8406562805175781\n",
            "Files already downloaded and verified\n",
            "Files already downloaded and verified\n"
          ]
        },
        {
          "output_type": "stream",
          "name": "stderr",
          "text": [
            "100%|██████████| 1563/1563 [00:35<00:00, 44.46it/s]\n",
            "100%|██████████| 313/313 [00:03<00:00, 79.27it/s]\n"
          ]
        },
        {
          "output_type": "stream",
          "name": "stdout",
          "text": [
            "epoch 6: train loss:1.0182569026947021 val loss:1.820266604423523\n",
            "Files already downloaded and verified\n",
            "Files already downloaded and verified\n"
          ]
        },
        {
          "output_type": "stream",
          "name": "stderr",
          "text": [
            "100%|██████████| 1563/1563 [00:34<00:00, 44.86it/s]\n",
            "100%|██████████| 313/313 [00:04<00:00, 78.01it/s]\n"
          ]
        },
        {
          "output_type": "stream",
          "name": "stdout",
          "text": [
            "epoch 7: train loss:0.9232044816017151 val loss:1.8146196603775024\n",
            "Files already downloaded and verified\n",
            "Files already downloaded and verified\n"
          ]
        },
        {
          "output_type": "stream",
          "name": "stderr",
          "text": [
            "100%|██████████| 1563/1563 [00:35<00:00, 44.63it/s]\n",
            "100%|██████████| 313/313 [00:03<00:00, 78.36it/s]\n"
          ]
        },
        {
          "output_type": "stream",
          "name": "stdout",
          "text": [
            "epoch 8: train loss:0.8525692820549011 val loss:1.8857421875\n",
            "Files already downloaded and verified\n",
            "Files already downloaded and verified\n"
          ]
        },
        {
          "output_type": "stream",
          "name": "stderr",
          "text": [
            "100%|██████████| 1563/1563 [00:34<00:00, 45.40it/s]\n",
            "100%|██████████| 313/313 [00:04<00:00, 64.03it/s]"
          ]
        },
        {
          "output_type": "stream",
          "name": "stdout",
          "text": [
            "epoch 9: train loss:0.7961569428443909 val loss:1.8688554763793945\n"
          ]
        },
        {
          "output_type": "stream",
          "name": "stderr",
          "text": [
            "\n"
          ]
        }
      ]
    },
    {
      "cell_type": "markdown",
      "source": [
        "3)easy first"
      ],
      "metadata": {
        "id": "hLy_OUfgEeEV"
      }
    },
    {
      "cell_type": "code",
      "source": [
        "model_transfer = resnet18(weights='DEFAULT')\n",
        "model_transfer.fc = nn.Linear(512,100)\n",
        "optimizer = torch.optim.Adam(model_transfer.parameters(),lr=3e-4)\n",
        "loss_function = nn.CrossEntropyLoss()\n",
        "model_transfer.to(device)\n",
        "print(f'Model is on device: {device}')"
      ],
      "metadata": {
        "id": "1hVkZZzF68YO",
        "colab": {
          "base_uri": "https://localhost:8080/"
        },
        "outputId": "e7563ef9-ac60-4675-bf0e-827937d7e734"
      },
      "execution_count": null,
      "outputs": [
        {
          "output_type": "stream",
          "name": "stdout",
          "text": [
            "Model is on device: cuda\n"
          ]
        }
      ]
    },
    {
      "cell_type": "code",
      "source": [
        "n_epochs = 10\n",
        "\n",
        "for i in range(n_epochs):\n",
        "  weights = 1. / (loss_per_object + 1.0)**1.1\n",
        "  train_loader,test_loader = get_loaders_weighted(weights)\n",
        "  model_transfer.train()\n",
        "  train_loss = 0\n",
        "  for x,y in tqdm(train_loader):\n",
        "    optimizer.zero_grad()\n",
        "    x, y = x.to(device), y.to(device)\n",
        "    preds = model_transfer(x)\n",
        "    loss = loss_function(preds,y)\n",
        "    train_loss += loss\n",
        "    loss.backward()\n",
        "    optimizer.step()\n",
        "\n",
        "  model_transfer.eval()\n",
        "  val_loss = 0\n",
        "  with torch.no_grad():\n",
        "    for x,y in  tqdm(test_loader):\n",
        "      x, y = x.to(device), y.to(device)\n",
        "      preds = model_transfer(x)\n",
        "      loss = loss_function(preds,y)\n",
        "      val_loss += loss    \n",
        "  \n",
        "  train_len = len(train_loader)\n",
        "  val_len = len(test_loader)\n",
        "  print(f'epoch {i}: train loss:{train_loss / train_len } val loss:{val_loss / val_len }')\n",
        "\n",
        "  losses_train_history['easy first'].append(train_loss / train_len)\n",
        "  losses_val_history['easy first'].append(val_loss / val_len)"
      ],
      "metadata": {
        "id": "UzhN0fg87FjX",
        "colab": {
          "base_uri": "https://localhost:8080/"
        },
        "outputId": "a8372953-4764-4c3c-97ad-83860c385a0b"
      },
      "execution_count": null,
      "outputs": [
        {
          "output_type": "stream",
          "name": "stdout",
          "text": [
            "Files already downloaded and verified\n",
            "Files already downloaded and verified\n"
          ]
        },
        {
          "output_type": "stream",
          "name": "stderr",
          "text": [
            "100%|██████████| 1563/1563 [00:34<00:00, 45.97it/s]\n",
            "100%|██████████| 313/313 [00:05<00:00, 60.45it/s]\n"
          ]
        },
        {
          "output_type": "stream",
          "name": "stdout",
          "text": [
            "epoch 0: train loss:2.5788118839263916 val loss:2.19295072555542\n",
            "Files already downloaded and verified\n",
            "Files already downloaded and verified\n"
          ]
        },
        {
          "output_type": "stream",
          "name": "stderr",
          "text": [
            "100%|██████████| 1563/1563 [00:35<00:00, 44.34it/s]\n",
            "100%|██████████| 313/313 [00:04<00:00, 76.76it/s]\n"
          ]
        },
        {
          "output_type": "stream",
          "name": "stdout",
          "text": [
            "epoch 1: train loss:1.9035000801086426 val loss:1.976481556892395\n",
            "Files already downloaded and verified\n",
            "Files already downloaded and verified\n"
          ]
        },
        {
          "output_type": "stream",
          "name": "stderr",
          "text": [
            "100%|██████████| 1563/1563 [00:34<00:00, 44.90it/s]\n",
            "100%|██████████| 313/313 [00:04<00:00, 77.48it/s]\n"
          ]
        },
        {
          "output_type": "stream",
          "name": "stdout",
          "text": [
            "epoch 2: train loss:1.6307892799377441 val loss:1.8856523036956787\n",
            "Files already downloaded and verified\n",
            "Files already downloaded and verified\n"
          ]
        },
        {
          "output_type": "stream",
          "name": "stderr",
          "text": [
            "100%|██████████| 1563/1563 [00:34<00:00, 44.73it/s]\n",
            "100%|██████████| 313/313 [00:04<00:00, 72.99it/s]\n"
          ]
        },
        {
          "output_type": "stream",
          "name": "stdout",
          "text": [
            "epoch 3: train loss:1.4386341571807861 val loss:1.8373383283615112\n",
            "Files already downloaded and verified\n",
            "Files already downloaded and verified\n"
          ]
        },
        {
          "output_type": "stream",
          "name": "stderr",
          "text": [
            "100%|██████████| 1563/1563 [00:34<00:00, 45.78it/s]\n",
            "100%|██████████| 313/313 [00:04<00:00, 62.65it/s]\n"
          ]
        },
        {
          "output_type": "stream",
          "name": "stdout",
          "text": [
            "epoch 4: train loss:1.2992610931396484 val loss:1.804947018623352\n",
            "Files already downloaded and verified\n",
            "Files already downloaded and verified\n"
          ]
        },
        {
          "output_type": "stream",
          "name": "stderr",
          "text": [
            "100%|██████████| 1563/1563 [00:35<00:00, 44.41it/s]\n",
            "100%|██████████| 313/313 [00:04<00:00, 76.05it/s]\n"
          ]
        },
        {
          "output_type": "stream",
          "name": "stdout",
          "text": [
            "epoch 5: train loss:1.1787199974060059 val loss:1.7570252418518066\n",
            "Files already downloaded and verified\n",
            "Files already downloaded and verified\n"
          ]
        },
        {
          "output_type": "stream",
          "name": "stderr",
          "text": [
            "100%|██████████| 1563/1563 [00:34<00:00, 44.76it/s]\n",
            "100%|██████████| 313/313 [00:04<00:00, 76.39it/s]\n"
          ]
        },
        {
          "output_type": "stream",
          "name": "stdout",
          "text": [
            "epoch 6: train loss:1.0669564008712769 val loss:1.8484995365142822\n",
            "Files already downloaded and verified\n",
            "Files already downloaded and verified\n"
          ]
        },
        {
          "output_type": "stream",
          "name": "stderr",
          "text": [
            "100%|██████████| 1563/1563 [00:34<00:00, 45.08it/s]\n",
            "100%|██████████| 313/313 [00:03<00:00, 78.61it/s]\n"
          ]
        },
        {
          "output_type": "stream",
          "name": "stdout",
          "text": [
            "epoch 7: train loss:0.9741820096969604 val loss:1.8340859413146973\n",
            "Files already downloaded and verified\n",
            "Files already downloaded and verified\n"
          ]
        },
        {
          "output_type": "stream",
          "name": "stderr",
          "text": [
            "100%|██████████| 1563/1563 [00:33<00:00, 46.13it/s]\n",
            "100%|██████████| 313/313 [00:04<00:00, 72.35it/s]\n"
          ]
        },
        {
          "output_type": "stream",
          "name": "stdout",
          "text": [
            "epoch 8: train loss:0.9080197215080261 val loss:1.8053607940673828\n",
            "Files already downloaded and verified\n",
            "Files already downloaded and verified\n"
          ]
        },
        {
          "output_type": "stream",
          "name": "stderr",
          "text": [
            "100%|██████████| 1563/1563 [00:33<00:00, 46.21it/s]\n",
            "100%|██████████| 313/313 [00:05<00:00, 59.65it/s]"
          ]
        },
        {
          "output_type": "stream",
          "name": "stdout",
          "text": [
            "epoch 9: train loss:0.8264814615249634 val loss:1.8346693515777588\n"
          ]
        },
        {
          "output_type": "stream",
          "name": "stderr",
          "text": [
            "\n"
          ]
        }
      ]
    },
    {
      "cell_type": "code",
      "source": [
        "def tensor_list_to_list(list_of_tensors):\n",
        "  return [t.item() for t in list_of_tensors]"
      ],
      "metadata": {
        "id": "PwJO4Kg_DWBc"
      },
      "execution_count": null,
      "outputs": []
    },
    {
      "cell_type": "code",
      "source": [
        "fig,axes = plt.subplots(1,2)\n",
        "for key,value in losses_train_history.items():\n",
        "  axes[0].plot(range(n_epochs),tensor_list_to_list(value),label=str(key))\n",
        "axes[0].set_title('Train Loss')\n",
        "for key,value in losses_val_history.items():\n",
        "  axes[1].plot(range(n_epochs),tensor_list_to_list(value),label=str(key))\n",
        "axes[1].set_title('Test Loss')\n",
        "axes[0].legend()\n",
        "axes[1].legend()"
      ],
      "metadata": {
        "id": "nAl9BTke7am4",
        "colab": {
          "base_uri": "https://localhost:8080/",
          "height": 469
        },
        "outputId": "bd5dd538-539a-4ce9-f33b-fb70a4dc1b8e"
      },
      "execution_count": 34,
      "outputs": [
        {
          "output_type": "execute_result",
          "data": {
            "text/plain": [
              "<matplotlib.legend.Legend at 0x7f9a016dd930>"
            ]
          },
          "metadata": {},
          "execution_count": 34
        },
        {
          "output_type": "display_data",
          "data": {
            "text/plain": [
              "<Figure size 640x480 with 2 Axes>"
            ],
            "image/png": "[encoded data removed]"
          },
          "metadata": {}
        }
      ]
    },
    {
      "cell_type": "code",
      "source": [
        "model_transfer = resnet18(weights='DEFAULT')\n",
        "model_transfer.fc = nn.Linear(512,100)\n",
        "optimizer = torch.optim.Adam(model_transfer.parameters(),lr=3e-4)\n",
        "loss_function = nn.CrossEntropyLoss()\n",
        "model_transfer.to(device)\n",
        "print(f'Model is on device: {device}')"
      ],
      "metadata": {
        "colab": {
          "base_uri": "https://localhost:8080/"
        },
        "id": "gqsv1MPd13Gt",
        "outputId": "3af92f39-fdd2-44a1-ad37-a57e009274bd"
      },
      "execution_count": 32,
      "outputs": [
        {
          "output_type": "stream",
          "name": "stdout",
          "text": [
            "Model is on device: cuda\n"
          ]
        }
      ]
    },
    {
      "cell_type": "code",
      "source": [
        "losses_train_history['mixed'] = []\n",
        "losses_val_history['mixed'] = []"
      ],
      "metadata": {
        "id": "Lki3R9n82l7c"
      },
      "execution_count": 31,
      "outputs": []
    },
    {
      "cell_type": "code",
      "source": [
        "n_epochs = 10\n",
        "\n",
        "for i in range(n_epochs):\n",
        "  weights = 1. / (loss_per_object + 1.0)**((n_epochs//2 - i) / 6)\n",
        "  train_loader,test_loader = get_loaders_weighted(weights)\n",
        "  model_transfer.train()\n",
        "  train_loss = 0\n",
        "  for x,y in tqdm(train_loader):\n",
        "    optimizer.zero_grad()\n",
        "    x, y = x.to(device), y.to(device)\n",
        "    preds = model_transfer(x)\n",
        "    loss = loss_function(preds,y)\n",
        "    train_loss += loss\n",
        "    loss.backward()\n",
        "    optimizer.step()\n",
        "\n",
        "  model_transfer.eval()\n",
        "  val_loss = 0\n",
        "  with torch.no_grad():\n",
        "    for x,y in  tqdm(test_loader):\n",
        "      x, y = x.to(device), y.to(device)\n",
        "      preds = model_transfer(x)\n",
        "      loss = loss_function(preds,y)\n",
        "      val_loss += loss    \n",
        "  \n",
        "  train_len = len(train_loader)\n",
        "  val_len = len(test_loader)\n",
        "  print(f'epoch {i}: train loss:{train_loss / train_len } val loss:{val_loss / val_len }')\n",
        "\n",
        "  losses_train_history['mixed'].append(train_loss / train_len)\n",
        "  losses_val_history['mixed'].append(val_loss / val_len)"
      ],
      "metadata": {
        "colab": {
          "base_uri": "https://localhost:8080/"
        },
        "outputId": "d343a0cc-2625-40ce-dbb1-0173cc1dcd91",
        "id": "VA6wzQWD2aa6"
      },
      "execution_count": 33,
      "outputs": [
        {
          "output_type": "stream",
          "name": "stdout",
          "text": [
            "Files already downloaded and verified\n",
            "Files already downloaded and verified\n"
          ]
        },
        {
          "output_type": "stream",
          "name": "stderr",
          "text": [
            "100%|██████████| 1563/1563 [00:38<00:00, 40.26it/s]\n",
            "100%|██████████| 313/313 [00:04<00:00, 70.90it/s]\n"
          ]
        },
        {
          "output_type": "stream",
          "name": "stdout",
          "text": [
            "epoch 0: train loss:2.580512523651123 val loss:2.166724920272827\n",
            "Files already downloaded and verified\n",
            "Files already downloaded and verified\n"
          ]
        },
        {
          "output_type": "stream",
          "name": "stderr",
          "text": [
            "100%|██████████| 1563/1563 [00:36<00:00, 43.27it/s]\n",
            "100%|██████████| 313/313 [00:04<00:00, 62.70it/s]\n"
          ]
        },
        {
          "output_type": "stream",
          "name": "stdout",
          "text": [
            "epoch 1: train loss:1.9046213626861572 val loss:1.9124890565872192\n",
            "Files already downloaded and verified\n",
            "Files already downloaded and verified\n"
          ]
        },
        {
          "output_type": "stream",
          "name": "stderr",
          "text": [
            "100%|██████████| 1563/1563 [00:36<00:00, 43.34it/s]\n",
            "100%|██████████| 313/313 [00:04<00:00, 63.30it/s]\n"
          ]
        },
        {
          "output_type": "stream",
          "name": "stdout",
          "text": [
            "epoch 2: train loss:1.6538904905319214 val loss:1.840902328491211\n",
            "Files already downloaded and verified\n",
            "Files already downloaded and verified\n"
          ]
        },
        {
          "output_type": "stream",
          "name": "stderr",
          "text": [
            "100%|██████████| 1563/1563 [00:36<00:00, 42.75it/s]\n",
            "100%|██████████| 313/313 [00:04<00:00, 67.93it/s]\n"
          ]
        },
        {
          "output_type": "stream",
          "name": "stdout",
          "text": [
            "epoch 3: train loss:1.4812695980072021 val loss:1.7952808141708374\n",
            "Files already downloaded and verified\n",
            "Files already downloaded and verified\n"
          ]
        },
        {
          "output_type": "stream",
          "name": "stderr",
          "text": [
            "100%|██████████| 1563/1563 [00:36<00:00, 42.89it/s]\n",
            "100%|██████████| 313/313 [00:05<00:00, 57.64it/s]\n"
          ]
        },
        {
          "output_type": "stream",
          "name": "stdout",
          "text": [
            "epoch 4: train loss:1.3409483432769775 val loss:1.7861859798431396\n",
            "Files already downloaded and verified\n",
            "Files already downloaded and verified\n"
          ]
        },
        {
          "output_type": "stream",
          "name": "stderr",
          "text": [
            "100%|██████████| 1563/1563 [00:36<00:00, 42.73it/s]\n",
            "100%|██████████| 313/313 [00:04<00:00, 67.78it/s]\n"
          ]
        },
        {
          "output_type": "stream",
          "name": "stdout",
          "text": [
            "epoch 5: train loss:1.2180532217025757 val loss:1.7446311712265015\n",
            "Files already downloaded and verified\n",
            "Files already downloaded and verified\n"
          ]
        },
        {
          "output_type": "stream",
          "name": "stderr",
          "text": [
            "100%|██████████| 1563/1563 [00:37<00:00, 42.18it/s]\n",
            "100%|██████████| 313/313 [00:05<00:00, 56.12it/s]\n"
          ]
        },
        {
          "output_type": "stream",
          "name": "stdout",
          "text": [
            "epoch 6: train loss:1.1230076551437378 val loss:1.7864594459533691\n",
            "Files already downloaded and verified\n",
            "Files already downloaded and verified\n"
          ]
        },
        {
          "output_type": "stream",
          "name": "stderr",
          "text": [
            "100%|██████████| 1563/1563 [00:37<00:00, 41.92it/s]\n",
            "100%|██████████| 313/313 [00:04<00:00, 68.90it/s]\n"
          ]
        },
        {
          "output_type": "stream",
          "name": "stdout",
          "text": [
            "epoch 7: train loss:1.0379644632339478 val loss:1.7948089838027954\n",
            "Files already downloaded and verified\n",
            "Files already downloaded and verified\n"
          ]
        },
        {
          "output_type": "stream",
          "name": "stderr",
          "text": [
            "100%|██████████| 1563/1563 [00:37<00:00, 42.11it/s]\n",
            "100%|██████████| 313/313 [00:05<00:00, 56.08it/s]\n"
          ]
        },
        {
          "output_type": "stream",
          "name": "stdout",
          "text": [
            "epoch 8: train loss:0.9418758749961853 val loss:1.7597914934158325\n",
            "Files already downloaded and verified\n",
            "Files already downloaded and verified\n"
          ]
        },
        {
          "output_type": "stream",
          "name": "stderr",
          "text": [
            "100%|██████████| 1563/1563 [00:37<00:00, 41.72it/s]\n",
            "100%|██████████| 313/313 [00:04<00:00, 68.47it/s]"
          ]
        },
        {
          "output_type": "stream",
          "name": "stdout",
          "text": [
            "epoch 9: train loss:0.8715276718139648 val loss:1.809114933013916\n"
          ]
        },
        {
          "output_type": "stream",
          "name": "stderr",
          "text": [
            "\n"
          ]
        }
      ]
    },
    {
      "cell_type": "code",
      "source": [],
      "metadata": {
        "id": "SMBK2LdQ138P"
      },
      "execution_count": null,
      "outputs": []
    }
  ]
}